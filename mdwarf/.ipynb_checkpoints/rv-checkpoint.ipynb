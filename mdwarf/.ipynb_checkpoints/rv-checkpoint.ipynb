{
 "cells": [
  {
   "cell_type": "markdown",
   "id": "90e4790a-8890-4226-8059-8bcc696f2a99",
   "metadata": {},
   "source": [
    "# Radial Velocity Measurement of LAMOST M Stars  \n",
    "\n",
    "@author: Bo ZHANG (bozhang at bnu.edu.cn)  \n",
    "@edit  : Jiadong LI\n",
    "Please cite https://ui.adsabs.harvard.edu/abs/2021ApJS..256...14Z/abstract"
   ]
  },
  {
   "cell_type": "code",
   "execution_count": 1,
   "id": "fb60082d-fc95-4332-9b35-6daf6490b237",
   "metadata": {},
   "outputs": [
    {
     "name": "stdout",
     "output_type": "stream",
     "text": [
      "slam.normalization module will be deprecated in future\n"
     ]
    }
   ],
   "source": [
    "import numpy as np\n",
    "from astropy.io import fits\n",
    "from slam.normalization import normalize_spectrum_iter, normalize_spectra_block\n",
    "from preprocess import LAMOST"
   ]
  },
  {
   "cell_type": "code",
   "execution_count": 2,
   "id": "802f2af9-dba9-4db5-b4d3-0f791274c20c",
   "metadata": {},
   "outputs": [
    {
     "name": "stdout",
     "output_type": "stream",
     "text": [
      "load Spec ...\n",
      "load RVM ...\n"
     ]
    }
   ],
   "source": [
    "print(\"load Spec ...\")\n",
    "obs_dir = \"data/\"\n",
    "wave_interp = np.load(\"models/wave_interp_R1800.npz\")['wave']\n",
    "obs_spec = LAMOST(root_dir=obs_dir, wave_resamp=wave_interp)\n",
    "\n",
    "\n",
    "print(\"load RVM ...\")\n",
    "import joblib\n",
    "from laspec.wavelength import air2vac, vac2air\n",
    "rvm = joblib.load(\"models/R1800_rvm_Ca8500.dump\") # 3. the path of the rvm file\n",
    "rvm.wave_mod = vac2air(rvm.wave_mod)\n",
    "rvm.cache_names = []\n",
    "\n"
   ]
  },
  {
   "cell_type": "code",
   "execution_count": 4,
   "id": "1e9db0f6-de7d-4d08-8105-a30d94c6fb81",
   "metadata": {},
   "outputs": [],
   "source": [
    "def measure_rv(spec, rvm):\n",
    "    \n",
    "    # cut spectrum  \n",
    "    indcut = (spec['wave']>8000)&(spec['wave']<8950)\n",
    "    wave_obs = spec['wave'][indcut]\n",
    "    flux_obs = spec['flux'][indcut]\n",
    "    flux_err = spec['invar'][indcut]**-0.5\n",
    "\n",
    "    # normalize spectrum\n",
    "    flux_norm, flux_cont =  normalize_spectrum_iter(wave_obs, flux_obs, niter=3)\n",
    "    flux_norm_err = flux_err / flux_cont\n",
    "    # measure rv\n",
    "    rvr = rvm.measure(wave_obs, flux_norm, flux_norm_err, nmc=100)\n",
    "    rvr[\"snr50\"] = np.median(flux_obs/flux_err)\n",
    "#     rvr[\"fp\"] = fp\n",
    "    rvr[\"obsid\"] = spec[\"obsid\"]\n",
    "    rvr[\"rvteff\"] = rvr[\"pmod\"][0]\n",
    "    rvr[\"rv16\"],rvr[\"rv50\"],rvr[\"rv84\"] = rvr[\"rv_pct\"]\n",
    "    rvr[\"rv_unc\"] = (rvr[\"rv84\"]-rvr[\"rv16\"])/2\n",
    "    rvr[\"npix_obs\"] = len(flux_obs)\n",
    "    return rvr\n",
    "\n",
    "rvr_list_valid = [measure_rv(obs_spec[_], rvm) for _ in range(len(obs_spec))]"
   ]
  },
  {
   "cell_type": "code",
   "execution_count": 5,
   "id": "ccadd9f2-f73b-4a2d-9580-e4892d36ab48",
   "metadata": {},
   "outputs": [],
   "source": [
    "from astropy.table import Table\n",
    "\n",
    "\n",
    "trvr = Table(rvr_list_valid)\n",
    "trvr.write(\"data/trvr.fits\", overwrite=True) # 4. save to the file"
   ]
  },
  {
   "cell_type": "code",
   "execution_count": 6,
   "id": "abef9ada-2858-4aa2-8b74-e687e3f45a4f",
   "metadata": {},
   "outputs": [
    {
     "data": {
      "text/html": [
       "<i>Table length=3</i>\n",
       "<table id=\"table139878656869520\" class=\"table-striped table-bordered table-condensed\">\n",
       "<thead><tr><th>rv_opt</th><th>rv_err</th><th>rv_best</th><th>ccfmax</th><th>success</th><th>imod</th><th>pmod [4]</th><th>status</th><th>rv_pct [3]</th><th>snr50</th><th>obsid</th><th>rvteff</th><th>rv16</th><th>rv50</th><th>rv84</th><th>rv_unc</th><th>npix_obs</th></tr></thead>\n",
       "<thead><tr><th>float64</th><th>float64</th><th>float64</th><th>float64</th><th>bool</th><th>int64</th><th>float64</th><th>int64</th><th>float64</th><th>float32</th><th>int64</th><th>float64</th><th>float64</th><th>float64</th><th>float64</th><th>float64</th><th>int64</th></tr></thead>\n",
       "<tr><td>-4.708387091632844</td><td>16544.371720519193</td><td>-6.060606060606119</td><td>0.8596151446480795</td><td>True</td><td>417</td><td>4315.192430892548 .. -0.023213988195562862</td><td>0</td><td>-6.060606060606119 .. -2.5780612691294427</td><td>92.827255</td><td>1607211</td><td>4315.192430892548</td><td>-6.060606060606119</td><td>-4.6266145951482365</td><td>-2.5780612691294427</td><td>1.7412723957383383</td><td>488</td></tr>\n",
       "<tr><td>3.2385883853782857</td><td>21114.187600654896</td><td>6.0606060606060055</td><td>0.8193599212316659</td><td>True</td><td>148</td><td>3629.499885287708 .. 0.0929780796377756</td><td>0</td><td>2.8012393926810777 .. 4.234912766158092</td><td>217.30652</td><td>1608025</td><td>3629.499885287708</td><td>2.8012393926810777</td><td>3.2708266794982617</td><td>4.234912766158092</td><td>0.7168366867385072</td><td>488</td></tr>\n",
       "<tr><td>6.868070253289936</td><td>32068.47469567162</td><td>6.0606060606060055</td><td>0.6871246025008447</td><td>True</td><td>534</td><td>3610.999433267882 .. -0.06589334628795213</td><td>0</td><td>4.693868798103721 .. 10.730479459922462</td><td>71.88381</td><td>1608093</td><td>3610.999433267882</td><td>4.693868798103721</td><td>6.918557499420194</td><td>10.730479459922462</td><td>3.0183053309093704</td><td>488</td></tr>\n",
       "</table>"
      ],
      "text/plain": [
       "<Table length=3>\n",
       "      rv_opt             rv_err       ...       rv_unc       npix_obs\n",
       "     float64            float64       ...      float64        int64  \n",
       "------------------ ------------------ ... ------------------ --------\n",
       "-4.708387091632844 16544.371720519193 ... 1.7412723957383383      488\n",
       "3.2385883853782857 21114.187600654896 ... 0.7168366867385072      488\n",
       " 6.868070253289936  32068.47469567162 ... 3.0183053309093704      488"
      ]
     },
     "execution_count": 6,
     "metadata": {},
     "output_type": "execute_result"
    }
   ],
   "source": [
    "trvr"
   ]
  }
 ],
 "metadata": {
  "kernelspec": {
   "display_name": "Python 3",
   "language": "python",
   "name": "python3"
  },
  "language_info": {
   "codemirror_mode": {
    "name": "ipython",
    "version": 3
   },
   "file_extension": ".py",
   "mimetype": "text/x-python",
   "name": "python",
   "nbconvert_exporter": "python",
   "pygments_lexer": "ipython3",
   "version": "3.8.8"
  }
 },
 "nbformat": 4,
 "nbformat_minor": 5
}

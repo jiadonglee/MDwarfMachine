{
 "cells": [
  {
   "cell_type": "markdown",
   "metadata": {},
   "source": [
    "# A simple tutorial pipleline for paramterization of M dwarf stars  \n",
    "\n",
    "Jiadong LI (mailto:jdli@nao.cas.cn), Created on Fri. Mar 13 2020"
   ]
  },
  {
   "cell_type": "code",
   "execution_count": 1,
   "metadata": {},
   "outputs": [],
   "source": [
    "#!/usr/bin/python\n",
    "# -*- coding: UTF-8 -*-\n",
    "import os, sys, time\n",
    "import warnings\n",
    "import numpy as np\n",
    "import pandas as pd\n",
    "from tqdm import tqdm\n",
    "from astropy.io import fits\n",
    "from astropy.table import Table\n",
    "from slam import Slam\n",
    "from slam.normalization import normalize_spectrum, normalize_spectra_block\n",
    "from preprocess import LAMOST"
   ]
  },
  {
   "cell_type": "code",
   "execution_count": 2,
   "metadata": {},
   "outputs": [
    {
     "name": "stderr",
     "output_type": "stream",
     "text": [
      "100%|██████████| 3/3 [00:00<00:00, 39.12it/s]\n"
     ]
    }
   ],
   "source": [
    "# specify a wavelength range from LAMOST DR5 (R~1800) spectra as useful pixels\n",
    "\n",
    "wave_interp = np.load(\"./models/wave_interp_R1800.npz\")['wave']\n",
    "\n",
    "# Preprocess: load all spectra data\n",
    "obs_dir = \"./data/\"\n",
    "obs_spec = LAMOST(root_dir=obs_dir, wave_resamp=wave_interp)\n",
    "\n",
    "\n",
    "fluxes, invars = [], []\n",
    "for i in tqdm(range(len(obs_spec))):\n",
    "    fluxes += [obs_spec[i]['flux_resamp']]\n",
    "    invars += [obs_spec[i]['invar_resamp']]\n",
    "    \n",
    "fluxes, invars = np.array(fluxes), np.array(invars)"
   ]
  },
  {
   "cell_type": "code",
   "execution_count": 3,
   "metadata": {},
   "outputs": [
    {
     "name": "stderr",
     "output_type": "stream",
     "text": [
      "[Parallel(n_jobs=2)]: Using backend LokyBackend with 2 concurrent workers.\n",
      "[Parallel(n_jobs=2)]: Done   3 out of   3 | elapsed:    1.6s remaining:    0.0s\n",
      "[Parallel(n_jobs=2)]: Done   3 out of   3 | elapsed:    1.6s finished\n"
     ]
    }
   ],
   "source": [
    "# normalization of each spetra\n",
    "\n",
    "fluxes_norm, fluxes_cont = normalize_spectra_block(wave_interp, fluxes, \n",
    "                                                   (6147., 8910.), 10., p=(1E-8, 1E-7), q=0.7, \n",
    "                                                   eps=1E-19, rsv_frac=2., n_jobs=2, verbose=5)\n",
    "\n",
    "invars_norm = fluxes_cont**2*invars"
   ]
  },
  {
   "cell_type": "code",
   "execution_count": 4,
   "metadata": {},
   "outputs": [],
   "source": [
    "# load SLAM model trained by BT-Settl synthetic spectra\n",
    "\n",
    "k_bt = Slam.load_dump(\"./models/btsettl.dump\")"
   ]
  },
  {
   "cell_type": "code",
   "execution_count": null,
   "metadata": {},
   "outputs": [
    {
     "name": "stdout",
     "output_type": "stream",
     "text": [
      "=====================================================\n",
      "@Slam.heal_the_world: IVAR of 0 spectra need to be reset\n",
      "=====================================================\n",
      "\n",
      "=====================================================\n",
      "\n",
      "=====================================================\n",
      "@Slam.heal_the_world: FLUX of 0 spectra need to be reset\n",
      "=====================================================\n",
      "\n",
      "=====================================================\n",
      "=====================================================\n",
      "@Slam.heal_the_world: IVAR of 0 spectra need to be reset\n",
      "=====================================================\n",
      "\n",
      "=====================================================\n",
      "\n",
      "=====================================================\n",
      "@Slam.heal_the_world: FLUX of 0 spectra need to be reset\n",
      "=====================================================\n",
      "\n",
      "=====================================================\n",
      "@SLAM: NMSE is not available and will be calculated now!\n"
     ]
    }
   ],
   "source": [
    "label_init = k_bt.predict_labels_quick(fluxes_norm, invars_norm, n_jobs=2)\n",
    "\n",
    "results_pred = k_bt.predict_labels_multi(label_init, fluxes_norm, invars_norm)\n",
    "label_pred = np.array([label['x'] for label in results_pred])\n",
    "\n",
    "TEFF_BT = label_pred[:,0]"
   ]
  }
 ],
 "metadata": {
  "kernelspec": {
   "display_name": "Python 3",
   "language": "python",
   "name": "python3"
  },
  "language_info": {
   "codemirror_mode": {
    "name": "ipython",
    "version": 3
   },
   "file_extension": ".py",
   "mimetype": "text/x-python",
   "name": "python",
   "nbconvert_exporter": "python",
   "pygments_lexer": "ipython3",
   "version": "3.7.3"
  }
 },
 "nbformat": 4,
 "nbformat_minor": 2
}

{
 "cells": [
  {
   "cell_type": "markdown",
   "metadata": {},
   "source": [
    "# Load, normalize Spectra"
   ]
  },
  {
   "cell_type": "code",
   "execution_count": 1,
   "metadata": {},
   "outputs": [],
   "source": [
    "from tqdm import tqdm\n",
    "import numpy as np\n",
    "import pandas as pd\n",
    "%config InlineBackend.figure_format = \"retina\"\n",
    "import matplotlib.pyplot as plt\n",
    "from laspec.normalization import normalize_spectrum, normalize_spectra_block\n",
    "from laspec.binning import rebin"
   ]
  },
  {
   "cell_type": "code",
   "execution_count": 2,
   "metadata": {},
   "outputs": [],
   "source": [
    "import sys\n",
    "sys.path.append('/home/jdli/jdli/')\n",
    "mgiant_dir = '/share/jdli/MG/spec/'\n",
    "# from mdwarf.preprocess import GroupSpec\n",
    "\n",
    "from jdpy.group_specs import groupSpec\n",
    "from jdpy.lm_download import LAMOST\n",
    "\n",
    "obs_spec = groupSpec(root_dir=mgiant_dir)"
   ]
  },
  {
   "cell_type": "code",
   "execution_count": 4,
   "metadata": {},
   "outputs": [],
   "source": [
    "# wave_interp = obs_spec[0]['wave']\n",
    "wave = np.load('/share/jdli/spectra/wave_interp_R1800.npz')['wave']\n"
   ]
  },
  {
   "cell_type": "code",
   "execution_count": null,
   "metadata": {},
   "outputs": [],
   "source": [
    "fluxes, invars = [], []\n",
    "obsids = []\n",
    "for i in tqdm(range(len(obs_spec))):\n",
    "    flux_r, invar_r = rebin(obs_spec[i]['wave'], obs_spec[i]['flux'], \n",
    "                            obs_spec[i]['ivar'], wave_new=wave)\n",
    "\n",
    "    fluxes += [flux_r]\n",
    "    invars += [invar_r]\n",
    "    obsids += [obs_spec[i]['obsid']]"
   ]
  },
  {
   "cell_type": "code",
   "execution_count": 8,
   "metadata": {},
   "outputs": [
    {
     "name": "stderr",
     "output_type": "stream",
     "text": [
      "[Parallel(n_jobs=64)]: Using backend LokyBackend with 64 concurrent workers.\n",
      "[Parallel(n_jobs=64)]: Done  34 tasks      | elapsed:    2.3s\n",
      "[Parallel(n_jobs=64)]: Done 160 tasks      | elapsed:    2.7s\n",
      "[Parallel(n_jobs=64)]: Done 322 tasks      | elapsed:    3.0s\n",
      "[Parallel(n_jobs=64)]: Done 520 tasks      | elapsed:    3.5s\n",
      "[Parallel(n_jobs=64)]: Done 754 tasks      | elapsed:    4.0s\n",
      "[Parallel(n_jobs=64)]: Done 1024 tasks      | elapsed:    4.5s\n",
      "[Parallel(n_jobs=64)]: Done 1330 tasks      | elapsed:    5.2s\n",
      "[Parallel(n_jobs=64)]: Done 1672 tasks      | elapsed:    5.9s\n",
      "[Parallel(n_jobs=64)]: Done 2050 tasks      | elapsed:    6.6s\n",
      "[Parallel(n_jobs=64)]: Done 2464 tasks      | elapsed:    7.5s\n",
      "[Parallel(n_jobs=64)]: Done 2914 tasks      | elapsed:    8.5s\n",
      "[Parallel(n_jobs=64)]: Done 3400 tasks      | elapsed:    9.5s\n",
      "[Parallel(n_jobs=64)]: Done 3922 tasks      | elapsed:   10.5s\n",
      "[Parallel(n_jobs=64)]: Done 4480 tasks      | elapsed:   11.7s\n",
      "[Parallel(n_jobs=64)]: Done 5074 tasks      | elapsed:   13.0s\n",
      "[Parallel(n_jobs=64)]: Done 5704 tasks      | elapsed:   14.4s\n",
      "[Parallel(n_jobs=64)]: Done 6370 tasks      | elapsed:   15.9s\n",
      "[Parallel(n_jobs=64)]: Done 7072 tasks      | elapsed:   17.4s\n",
      "[Parallel(n_jobs=64)]: Done 7810 tasks      | elapsed:   19.0s\n",
      "[Parallel(n_jobs=64)]: Done 8584 tasks      | elapsed:   20.9s\n",
      "[Parallel(n_jobs=64)]: Done 9394 tasks      | elapsed:   22.7s\n",
      "[Parallel(n_jobs=64)]: Done 10240 tasks      | elapsed:   24.6s\n",
      "[Parallel(n_jobs=64)]: Done 11122 tasks      | elapsed:   26.7s\n",
      "[Parallel(n_jobs=64)]: Done 12040 tasks      | elapsed:   28.8s\n",
      "[Parallel(n_jobs=64)]: Done 12994 tasks      | elapsed:   31.0s\n",
      "[Parallel(n_jobs=64)]: Done 13984 tasks      | elapsed:   33.2s\n",
      "[Parallel(n_jobs=64)]: Done 15010 tasks      | elapsed:   35.5s\n",
      "[Parallel(n_jobs=64)]: Done 16072 tasks      | elapsed:   38.0s\n",
      "[Parallel(n_jobs=64)]: Done 17170 tasks      | elapsed:   40.3s\n",
      "[Parallel(n_jobs=64)]: Done 18304 tasks      | elapsed:   43.0s\n",
      "[Parallel(n_jobs=64)]: Done 19474 tasks      | elapsed:   45.5s\n",
      "[Parallel(n_jobs=64)]: Done 20680 tasks      | elapsed:   48.1s\n",
      "[Parallel(n_jobs=64)]: Done 21922 tasks      | elapsed:   50.8s\n",
      "[Parallel(n_jobs=64)]: Done 23200 tasks      | elapsed:   53.6s\n",
      "[Parallel(n_jobs=64)]: Done 24514 tasks      | elapsed:   56.5s\n",
      "[Parallel(n_jobs=64)]: Done 25864 tasks      | elapsed:   59.6s\n",
      "[Parallel(n_jobs=64)]: Done 27250 tasks      | elapsed:  1.0min\n",
      "[Parallel(n_jobs=64)]: Done 28672 tasks      | elapsed:  1.1min\n",
      "[Parallel(n_jobs=64)]: Done 30130 tasks      | elapsed:  1.2min\n",
      "[Parallel(n_jobs=64)]: Done 31624 tasks      | elapsed:  1.2min\n",
      "[Parallel(n_jobs=64)]: Done 33154 tasks      | elapsed:  1.3min\n",
      "[Parallel(n_jobs=64)]: Done 34720 tasks      | elapsed:  1.3min\n",
      "[Parallel(n_jobs=64)]: Done 35335 out of 35335 | elapsed:  1.3min finished\n"
     ]
    }
   ],
   "source": [
    "fluxes, invars = np.array(fluxes), np.array(invars)\n",
    "\n",
    "fluxes_norm, fluxes_cont = normalize_spectra_block(wave, fluxes, \n",
    "                                                   (6147., 8910.), 10., p=(1E-8, 1E-7), q=0.7, \n",
    "                                                   eps=1E-19, rsv_frac=2., n_jobs=64, verbose=5)\n",
    "\n",
    "ivar_norm = fluxes_cont**2*invars"
   ]
  },
  {
   "cell_type": "code",
   "execution_count": null,
   "metadata": {},
   "outputs": [],
   "source": [
    "aspcap_raw = pd.read_csv('./data/mgiant_lm_ap16.csv')\n",
    "print(aspcap_raw.shape, aspcap_raw.columns)\n",
    "# %%\n",
    "ind = (aspcap_raw['TEFF']>3400.) & (aspcap_raw['TEFF']<4300.) &\\\n",
    "        (np.abs(aspcap_raw['TEFF_ERR'])<100.) &\\\n",
    "        (np.abs(aspcap_raw['FE_H_ERR'])<0.1) & (aspcap_raw['FE_H']>-2.) &\\\n",
    "        (aspcap_raw['snri']>50.)\n",
    "\n",
    "aspcap = aspcap_raw[ind]\n",
    "print(aspcap.shape)\n",
    "# aspcap['M_H'].plot(kind='hist')\n",
    "# aspcap['M_H_ERR'].plot(kind='hist')\n",
    "# aspcap['TEFF'].plot(kind='hist')\n",
    "# aspcap['TEFF_ERR'].plot(kind='hist')\n",
    "\n",
    "\n",
    "# aspcap.to_csv('./data/mgiant_lm_ap16_cut.csv', index=False)"
   ]
  },
  {
   "cell_type": "markdown",
   "metadata": {},
   "source": [
    "# Save Spectra"
   ]
  },
  {
   "cell_type": "code",
   "execution_count": 26,
   "metadata": {},
   "outputs": [
    {
     "name": "stdout",
     "output_type": "stream",
     "text": [
      "(2879, 23)\n",
      "(2877, 1596) (2877, 1596) (2877,)\n"
     ]
    }
   ],
   "source": [
    "def obsid_to_flux(all_obsid, all_flux, all_invar, newdf, wave):\n",
    "\n",
    "    dr6_df = pd.DataFrame({\n",
    "        'obsid':all_obsid\n",
    "    })\n",
    "\n",
    "    tr_df = pd.merge(newdf, dr6_df, on='obsid', how='left')\n",
    "    print(tr_df.shape)\n",
    "\n",
    "    obsids = np.array(all_obsid, dtype=int)\n",
    "    tr_obsid = np.array(tr_df['obsid'].values, dtype=int)\n",
    "    idx = np.searchsorted(obsids, tr_obsid)\n",
    "\n",
    "    mask = np.isin(obsids, tr_obsid)  # np.in1d if np.isin is not available\n",
    "    idx = np.where(mask)[0]\n",
    "\n",
    "    tr_fluxes, tr_invars = all_flux[idx,:], all_invar[idx,:]\n",
    "    tr_obsids = obsids[idx]\n",
    "    print(tr_fluxes.shape, tr_invars.shape, tr_obsids.shape)\n",
    "\n",
    "    new_tr_df = pd.DataFrame({'obsid':tr_obsids})\n",
    "    tr_df = pd.merge(new_tr_df, tr_df, on='obsid', how='left')\n",
    "\n",
    "    return {'new_df':tr_df, 'wave':wave, 'flux':tr_fluxes, 'invar':tr_invars}\n",
    "\n",
    "ap_dict = obsid_to_flux(obsids, fluxes_norm, ivar_norm, aspcap, wave)"
   ]
  },
  {
   "cell_type": "code",
   "execution_count": 27,
   "metadata": {},
   "outputs": [],
   "source": [
    "import pickle\n",
    "save_ap_name = './data/mgaint_ap_train.pickcle'\n",
    "with open(save_ap_name, \"wb\") as outfile:  \n",
    "    pickle.dump(ap_dict, outfile, \n",
    "    # pickle.HIGHEST_PROTOCOL\n",
    "    )"
   ]
  },
  {
   "cell_type": "code",
   "execution_count": 31,
   "metadata": {},
   "outputs": [],
   "source": [
    "mgiant_spec_dict = {'obsid':np.array(obsids), 'wave':wave,\n",
    "                    'flux_raw':fluxes, 'invar_raw':invars,\n",
    "                    'flux':fluxes_norm, 'invar':ivar_norm,\n",
    "                   }\n",
    "\n",
    "with open('./data/mgiant_spec_dict.pickcle', \"wb\") as outfile:  \n",
    "    pickle.dump(mgiant_spec_dict, outfile, \n",
    "    # pickle.HIGHEST_PROTOCOL\n",
    "    )"
   ]
  },
  {
   "cell_type": "code",
   "execution_count": 30,
   "metadata": {},
   "outputs": [
    {
     "data": {
      "text/plain": [
       "(35335, 1596)"
      ]
     },
     "execution_count": 30,
     "metadata": {},
     "output_type": "execute_result"
    }
   ],
   "source": [
    "mgiant_spec_dict['flux'].shape"
   ]
  }
 ],
 "metadata": {
  "kernelspec": {
   "display_name": "Python 3",
   "language": "python",
   "name": "python3"
  },
  "language_info": {
   "codemirror_mode": {
    "name": "ipython",
    "version": 3
   },
   "file_extension": ".py",
   "mimetype": "text/x-python",
   "name": "python",
   "nbconvert_exporter": "python",
   "pygments_lexer": "ipython3",
   "version": "3.7.6"
  }
 },
 "nbformat": 4,
 "nbformat_minor": 4
}
